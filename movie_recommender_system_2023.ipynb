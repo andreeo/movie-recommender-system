{
  "metadata": {
    "kernelspec": {
      "language": "python",
      "display_name": "Python 3",
      "name": "python3"
    },
    "language_info": {
      "name": "python",
      "version": "3.10.12",
      "mimetype": "text/x-python",
      "codemirror_mode": {
        "name": "ipython",
        "version": 3
      },
      "pygments_lexer": "ipython3",
      "nbconvert_exporter": "python",
      "file_extension": ".py"
    },
    "kaggle": {
      "accelerator": "none",
      "dataSources": [
        {
          "sourceId": 7350299,
          "sourceType": "datasetVersion",
          "datasetId": 4268467
        }
      ],
      "dockerImageVersionId": 30626,
      "isInternetEnabled": true,
      "language": "python",
      "sourceType": "notebook",
      "isGpuEnabled": false
    },
    "colab": {
      "name": "movie-recommender-system-2023",
      "provenance": []
    }
  },
  "nbformat_minor": 0,
  "nbformat": 4,
  "cells": [
    {
      "source": [
        "\n",
        "# IMPORTANT: RUN THIS CELL IN ORDER TO IMPORT YOUR KAGGLE DATA SOURCES\n",
        "# TO THE CORRECT LOCATION (/kaggle/input) IN YOUR NOTEBOOK,\n",
        "# THEN FEEL FREE TO DELETE THIS CELL.\n",
        "# NOTE: THIS NOTEBOOK ENVIRONMENT DIFFERS FROM KAGGLE'S PYTHON\n",
        "# ENVIRONMENT SO THERE MAY BE MISSING LIBRARIES USED BY YOUR\n",
        "# NOTEBOOK.\n",
        "\n",
        "import os\n",
        "import sys\n",
        "from tempfile import NamedTemporaryFile\n",
        "from urllib.request import urlopen\n",
        "from urllib.parse import unquote, urlparse\n",
        "from urllib.error import HTTPError\n",
        "from zipfile import ZipFile\n",
        "import tarfile\n",
        "import shutil\n",
        "\n",
        "CHUNK_SIZE = 40960\n",
        "DATA_SOURCE_MAPPING = 'movie-recommender-dataset:https%3A%2F%2Fstorage.googleapis.com%2Fkaggle-data-sets%2F4268467%2F7350299%2Fbundle%2Farchive.zip%3FX-Goog-Algorithm%3DGOOG4-RSA-SHA256%26X-Goog-Credential%3Dgcp-kaggle-com%2540kaggle-161607.iam.gserviceaccount.com%252F20240913%252Fauto%252Fstorage%252Fgoog4_request%26X-Goog-Date%3D20240913T202507Z%26X-Goog-Expires%3D259200%26X-Goog-SignedHeaders%3Dhost%26X-Goog-Signature%3D42fef65701c972cd857d804685082618e133e0371119c8f78950b632b28f366975da87ad15d2fea948b86cbe6240ee63ccfe87d0a562a9a2d4854704cdad9108d8691ac245b6208e4957c167ddc1fdd9c0ad7641c52d284742757654b9f138bc2a5a01a7eb2ae159580d09d681377b3367904dd828adb7d30db97b32723f0375431b2ff261dce787acb7a96fad1fcb4a58dcb78e0bf5f6801fe6ea1193459ac274e02e2d184e76f75057a341375fc41f1a6cabee193254c3fa700bf20b8fd15d16dc3bae7f74c044b8fbf982469e71fcccdfa6a4991c99f46dea97733cf802718e4b4872489f8f3bbdee579df80577862cc1c5c690c41c409bcdaef1eef1e6d9'\n",
        "\n",
        "KAGGLE_INPUT_PATH='/kaggle/input'\n",
        "KAGGLE_WORKING_PATH='/kaggle/working'\n",
        "KAGGLE_SYMLINK='kaggle'\n",
        "\n",
        "!umount /kaggle/input/ 2> /dev/null\n",
        "shutil.rmtree('/kaggle/input', ignore_errors=True)\n",
        "os.makedirs(KAGGLE_INPUT_PATH, 0o777, exist_ok=True)\n",
        "os.makedirs(KAGGLE_WORKING_PATH, 0o777, exist_ok=True)\n",
        "\n",
        "try:\n",
        "  os.symlink(KAGGLE_INPUT_PATH, os.path.join(\"..\", 'input'), target_is_directory=True)\n",
        "except FileExistsError:\n",
        "  pass\n",
        "try:\n",
        "  os.symlink(KAGGLE_WORKING_PATH, os.path.join(\"..\", 'working'), target_is_directory=True)\n",
        "except FileExistsError:\n",
        "  pass\n",
        "\n",
        "for data_source_mapping in DATA_SOURCE_MAPPING.split(','):\n",
        "    directory, download_url_encoded = data_source_mapping.split(':')\n",
        "    download_url = unquote(download_url_encoded)\n",
        "    filename = urlparse(download_url).path\n",
        "    destination_path = os.path.join(KAGGLE_INPUT_PATH, directory)\n",
        "    try:\n",
        "        with urlopen(download_url) as fileres, NamedTemporaryFile() as tfile:\n",
        "            total_length = fileres.headers['content-length']\n",
        "            print(f'Downloading {directory}, {total_length} bytes compressed')\n",
        "            dl = 0\n",
        "            data = fileres.read(CHUNK_SIZE)\n",
        "            while len(data) > 0:\n",
        "                dl += len(data)\n",
        "                tfile.write(data)\n",
        "                done = int(50 * dl / int(total_length))\n",
        "                sys.stdout.write(f\"\\r[{'=' * done}{' ' * (50-done)}] {dl} bytes downloaded\")\n",
        "                sys.stdout.flush()\n",
        "                data = fileres.read(CHUNK_SIZE)\n",
        "            if filename.endswith('.zip'):\n",
        "              with ZipFile(tfile) as zfile:\n",
        "                zfile.extractall(destination_path)\n",
        "            else:\n",
        "              with tarfile.open(tfile.name) as tarfile:\n",
        "                tarfile.extractall(destination_path)\n",
        "            print(f'\\nDownloaded and uncompressed: {directory}')\n",
        "    except HTTPError as e:\n",
        "        print(f'Failed to load (likely expired) {download_url} to path {destination_path}')\n",
        "        continue\n",
        "    except OSError as e:\n",
        "        print(f'Failed to load {download_url} to path {destination_path}')\n",
        "        continue\n",
        "\n",
        "print('Data source import complete.')\n"
      ],
      "metadata": {
        "id": "oDU1ygKVNV3l"
      },
      "cell_type": "code",
      "outputs": [],
      "execution_count": null
    },
    {
      "cell_type": "markdown",
      "source": [
        "# Movie Recommender system (2023)\n",
        "Predict the ratings of users based on MovieTweetings dataset\n",
        "\n",
        "### Assignment\n",
        "Implement a collaborative filtering algorithm for predicting movie ratings.\n",
        "\n",
        "#### Evaluation\n",
        "## Goal\n",
        "Predict the movie ratings of Twitter users. Predict the corresponding rating between 0 and 10\n",
        "## Metric\n",
        "The evaluation metric for the competition (Movie recommender system (2023)) to use is the Root-Mean-Square-Error (RMSE)\n",
        "\n",
        "#### Competition\n",
        "* Competition name: Movie recommender system (2023)\n",
        "* Competition host: Nacho\n",
        "* Competitor name: Andreeo Gonzalez"
      ],
      "metadata": {
        "id": "jWXzZJ8NNV3m"
      }
    },
    {
      "cell_type": "code",
      "source": [
        "# This Python 3 environment comes with many helpful analytics libraries installed\n",
        "# It is defined by the kaggle/python Docker image: https://github.com/kaggle/docker-python\n",
        "# For example, here's several helpful packages to load\n",
        "\n",
        "import numpy as np # linear algebra\n",
        "import pandas as pd # data processing, CSV file I/O (e.g. pd.read_csv)\n",
        "from collections import Counter\n",
        "from sklearn.model_selection import train_test_split\n",
        "from scipy import sparse\n",
        "\n",
        "# Input data files are available in the read-only \"../input/\" directory\n",
        "# For example, running this (by clicking run or pressing Shift+Enter) will list all files under the input directory\n",
        "\n",
        "import os\n",
        "for dirname, _, filenames in os.walk('/kaggle/input'):\n",
        "    for filename in filenames:\n",
        "        print(os.path.join(dirname, filename))\n",
        "\n",
        "# You can write up to 20GB to the current directory (/kaggle/working/) that gets preserved as output when you create a version using \"Save & Run All\"\n",
        "# You can also write temporary files to /kaggle/temp/, but they won't be saved outside of the current session"
      ],
      "metadata": {
        "_uuid": "8f2839f25d086af736a60e9eeb907d3b93b6e0e5",
        "_cell_guid": "b1076dfc-b9ad-4769-8c92-a6c4dae69d19",
        "execution": {
          "iopub.status.busy": "2024-01-08T23:39:18.433477Z",
          "iopub.execute_input": "2024-01-08T23:39:18.433905Z",
          "iopub.status.idle": "2024-01-08T23:39:19.357022Z",
          "shell.execute_reply.started": "2024-01-08T23:39:18.433853Z",
          "shell.execute_reply": "2024-01-08T23:39:19.355238Z"
        },
        "trusted": true,
        "id": "YcnOoNIVNV3m",
        "outputId": "980855b2-62ea-4c05-f85c-2c41e466dcd5"
      },
      "execution_count": null,
      "outputs": [
        {
          "name": "stdout",
          "text": "/kaggle/input/movie-recommender-dataset/movies.csv\n/kaggle/input/movie-recommender-dataset/raitings_training.csv\n/kaggle/input/movie-recommender-dataset/users.csv\n/kaggle/input/movie-recommender-dataset/test.csv\n",
          "output_type": "stream"
        }
      ]
    },
    {
      "cell_type": "code",
      "source": [
        "# Load and Build Dataset\n",
        "movies = pd.read_csv('/kaggle/input/movie-recommender-dataset/movies.csv')\n",
        "ratings_training = pd.read_csv('/kaggle/input/movie-recommender-dataset/raitings_training.csv')\n",
        "users  = pd.read_csv('/kaggle/input/movie-recommender-dataset/users.csv')\n",
        "test_data = pd.read_csv('/kaggle/input/movie-recommender-dataset/test.csv',sep='-')\n",
        "\n",
        "#default rating to all records of test_data\n",
        "test_data['rating']= 5\n",
        "#se establece un rating de 5 (ni \"no me gusta\" ni \"me gusta\") por defecto a todos, para luego en la etapa de procesamiento de datos\n",
        "#solo aquellas peliculas de las cuales no existe ningun dato en los datos de entrenamiento se les añada un 5 por defecto\n",
        "#de esta manera mejoro mucho el problema de sesgo que me generaban estos datos\n",
        "\n",
        "#processed movie data (cleaning duplicates and movies where genre is empty)\n",
        "movies = movies.sort_values('genre', na_position='last').drop_duplicates(['itemid', 'title'], keep='first')\n",
        "#check_duplicates = [movies_data.duplicated(subset=['itemid'], keep=False)]\n",
        "\n",
        "#ratings_training_data =  pd.concat([ratings_training_data,test_data])"
      ],
      "metadata": {
        "execution": {
          "iopub.status.busy": "2024-01-08T23:39:19.358487Z",
          "iopub.execute_input": "2024-01-08T23:39:19.358893Z",
          "iopub.status.idle": "2024-01-08T23:39:19.868233Z",
          "shell.execute_reply.started": "2024-01-08T23:39:19.358867Z",
          "shell.execute_reply": "2024-01-08T23:39:19.867484Z"
        },
        "trusted": true,
        "id": "9NINskxYNV3m"
      },
      "execution_count": null,
      "outputs": []
    },
    {
      "cell_type": "code",
      "source": [
        "def preprocess_and_concat(ratings_training_data, test_data):\n",
        "\n",
        "    new_users = set(test_data['itemid'].unique()) - set(ratings_training_data['userid'].unique())\n",
        "\n",
        "    mean_ratings = ratings_training_data.groupby('itemid')['rating'].mean().reset_index()\n",
        "\n",
        "\n",
        "    def assign_rating(row):\n",
        "        if row['userid'] in new_users:\n",
        "\n",
        "            if row['itemid'] in mean_ratings['itemid'].unique():\n",
        "                return round(mean_ratings[mean_ratings['itemid'] == row['itemid']]['rating'].values[0],0)\n",
        "            else:\n",
        "                # set default value to movies that not exist in ratings_training_data\n",
        "                return 5\n",
        "        else:\n",
        "            return row['rating']\n",
        "\n",
        "    test_data['rating'] = test_data.apply(assign_rating, axis=1)\n",
        "\n",
        "    concatenated_data = pd.concat([ratings_training_data, test_data])\n",
        "\n",
        "    return concatenated_data"
      ],
      "metadata": {
        "execution": {
          "iopub.status.busy": "2024-01-08T23:39:19.869372Z",
          "iopub.execute_input": "2024-01-08T23:39:19.869838Z",
          "iopub.status.idle": "2024-01-08T23:39:19.876232Z",
          "shell.execute_reply.started": "2024-01-08T23:39:19.869811Z",
          "shell.execute_reply": "2024-01-08T23:39:19.875185Z"
        },
        "trusted": true,
        "id": "NWWJs8hcNV3n"
      },
      "execution_count": null,
      "outputs": []
    },
    {
      "cell_type": "code",
      "source": [
        "train = preprocess_and_concat(ratings_training, test_data)"
      ],
      "metadata": {
        "execution": {
          "iopub.status.busy": "2024-01-08T23:39:19.878666Z",
          "iopub.execute_input": "2024-01-08T23:39:19.878996Z",
          "iopub.status.idle": "2024-01-08T23:39:21.227729Z",
          "shell.execute_reply.started": "2024-01-08T23:39:19.878968Z",
          "shell.execute_reply": "2024-01-08T23:39:21.226668Z"
        },
        "trusted": true,
        "id": "rWblUfSCNV3n"
      },
      "execution_count": null,
      "outputs": []
    },
    {
      "cell_type": "code",
      "source": [
        "#print rows head\n",
        "print(train.head())"
      ],
      "metadata": {
        "execution": {
          "iopub.status.busy": "2024-01-08T23:39:21.229393Z",
          "iopub.execute_input": "2024-01-08T23:39:21.229821Z",
          "iopub.status.idle": "2024-01-08T23:39:21.240269Z",
          "shell.execute_reply.started": "2024-01-08T23:39:21.229784Z",
          "shell.execute_reply": "2024-01-08T23:39:21.239398Z"
        },
        "trusted": true,
        "id": "32EWLh5_NV3n",
        "outputId": "fcca0d9a-5ba7-45f7-edb4-957cd686a4e8"
      },
      "execution_count": null,
      "outputs": [
        {
          "name": "stdout",
          "text": "   userid   itemid  rating\n0   20432  2265171     9.0\n1   59416  2119532     8.0\n2   23025   434409     7.0\n3   37262  3064298     7.0\n4   65696   462229     9.0\n",
          "output_type": "stream"
        }
      ]
    },
    {
      "cell_type": "code",
      "source": [
        "#distribution ratings and nº ratings per user\n",
        "Counter(train.rating)"
      ],
      "metadata": {
        "execution": {
          "iopub.status.busy": "2024-01-08T23:39:21.241493Z",
          "iopub.execute_input": "2024-01-08T23:39:21.241817Z",
          "iopub.status.idle": "2024-01-08T23:39:21.41411Z",
          "shell.execute_reply.started": "2024-01-08T23:39:21.241791Z",
          "shell.execute_reply": "2024-01-08T23:39:21.412905Z"
        },
        "trusted": true,
        "id": "CQuB0L6DNV3n",
        "outputId": "3201dc2a-cf72-49b9-fdf0-13af5bf3763e"
      },
      "execution_count": null,
      "outputs": [
        {
          "execution_count": 6,
          "output_type": "execute_result",
          "data": {
            "text/plain": "Counter({8.0: 198829,\n         7.0: 184317,\n         5.0: 153787,\n         9.0: 116569,\n         6.0: 107583,\n         10.0: 96991,\n         4.0: 25283,\n         3.0: 13874,\n         1.0: 9672,\n         2.0: 8223,\n         0.0: 242})"
          },
          "metadata": {}
        }
      ]
    },
    {
      "cell_type": "code",
      "source": [
        "#establecer un indice ordenado a todos los usuarios para almacenar correctamente\n",
        "#y buscar correctamente cada user/movie en su lugar correspondiente\n",
        "def set_ids_by_order(column):\n",
        "    #get unique ids of column (deleting possibles duplicates)\n",
        "    ids = column.unique()\n",
        "    #set to each userid a index\n",
        "    order_ids_by_index = { userid:index for index,userid in enumerate(ids)}\n",
        "    #set array to save all values of userid\n",
        "    values_ids = np.array([order_ids_by_index[userid] for userid in column])\n",
        "    return order_ids_by_index, values_ids, len(ids)\n",
        "\n",
        "def convert_dataset(dataset):\n",
        "    #get ids, column values and number of items\n",
        "    user_ids, dataset['userid'], n_users = set_ids_by_order(dataset['userid'])\n",
        "    item_ids, dataset['itemid'], n_items = set_ids_by_order(dataset['itemid'])\n",
        "    #dic = {\n",
        "    #    'dataset':dataset,\n",
        "    #    'user_ids': user_ids,\n",
        "    #    'item_ids': item_ids,\n",
        "    #    'n_users': n_users,\n",
        "    #    'n_items':  n_items,\n",
        "    #}\n",
        "    return dataset, user_ids, n_users, item_ids, n_items"
      ],
      "metadata": {
        "execution": {
          "iopub.status.busy": "2024-01-08T23:39:21.416039Z",
          "iopub.execute_input": "2024-01-08T23:39:21.4165Z",
          "iopub.status.idle": "2024-01-08T23:39:21.425105Z",
          "shell.execute_reply.started": "2024-01-08T23:39:21.416462Z",
          "shell.execute_reply": "2024-01-08T23:39:21.424093Z"
        },
        "trusted": true,
        "id": "9NA3grj0NV3o"
      },
      "execution_count": null,
      "outputs": []
    },
    {
      "cell_type": "code",
      "source": [
        "#obtemos el dataset explotado\n",
        "dataset, user_ids, n_users, item_ids, n_items = convert_dataset(train)\n",
        "\n",
        "print(\"{} users and {} items (movies)\".format(n_users, n_items))\n",
        "dataset.head()"
      ],
      "metadata": {
        "execution": {
          "iopub.status.busy": "2024-01-08T23:39:21.426298Z",
          "iopub.execute_input": "2024-01-08T23:39:21.426725Z",
          "iopub.status.idle": "2024-01-08T23:39:22.057239Z",
          "shell.execute_reply.started": "2024-01-08T23:39:21.426698Z",
          "shell.execute_reply": "2024-01-08T23:39:22.056214Z"
        },
        "trusted": true,
        "id": "EB8XhLk8NV3o",
        "outputId": "ef91597c-d4bf-48f1-ffc4-9b2d6f9d6128"
      },
      "execution_count": null,
      "outputs": [
        {
          "name": "stdout",
          "text": "71259 users and 37704 items (movies)\n",
          "output_type": "stream"
        },
        {
          "execution_count": 8,
          "output_type": "execute_result",
          "data": {
            "text/plain": "   userid  itemid  rating\n0       0       0     9.0\n1       1       1     8.0\n2       2       2     7.0\n3       3       3     7.0\n4       4       4     9.0",
            "text/html": "<div>\n<style scoped>\n    .dataframe tbody tr th:only-of-type {\n        vertical-align: middle;\n    }\n\n    .dataframe tbody tr th {\n        vertical-align: top;\n    }\n\n    .dataframe thead th {\n        text-align: right;\n    }\n</style>\n<table border=\"1\" class=\"dataframe\">\n  <thead>\n    <tr style=\"text-align: right;\">\n      <th></th>\n      <th>userid</th>\n      <th>itemid</th>\n      <th>rating</th>\n    </tr>\n  </thead>\n  <tbody>\n    <tr>\n      <th>0</th>\n      <td>0</td>\n      <td>0</td>\n      <td>9.0</td>\n    </tr>\n    <tr>\n      <th>1</th>\n      <td>1</td>\n      <td>1</td>\n      <td>8.0</td>\n    </tr>\n    <tr>\n      <th>2</th>\n      <td>2</td>\n      <td>2</td>\n      <td>7.0</td>\n    </tr>\n    <tr>\n      <th>3</th>\n      <td>3</td>\n      <td>3</td>\n      <td>7.0</td>\n    </tr>\n    <tr>\n      <th>4</th>\n      <td>4</td>\n      <td>4</td>\n      <td>9.0</td>\n    </tr>\n  </tbody>\n</table>\n</div>"
          },
          "metadata": {}
        }
      ]
    },
    {
      "cell_type": "code",
      "source": [
        "# creamos vectores factor/embeddings que son de espacios dimensionales inferiores\n",
        "def create_vector(n_features,n_factors):\n",
        "    # n_features contains the number of users/items(movies)\n",
        "    # n_factors contains the number of factors to apply to the vector (n*f)\n",
        "\n",
        "    # generate (initializate) the values of factor vectors\n",
        "    return 11 * np.random.random((n_features,n_factors)) / n_factors\n",
        "\n",
        "# creamos matrix escasa (sparse matrix) [[0,0...2.,0][0,3,0...1,3,0],...]\n",
        "def generate_matrix(d, rows, cols, by_column=\"rating\"):\n",
        "    #create sparse matrix\n",
        "    #ratings = d['dataset'][by_column].values\n",
        "    #user_ids, item_ids = d['user_ids'].values, d['item_ids'].values\n",
        "    return sparse.csc_matrix((d[by_column].values,(d['userid'].values, d['itemid'].values)), shape=(rows,cols))"
      ],
      "metadata": {
        "execution": {
          "iopub.status.busy": "2024-01-08T23:39:22.058369Z",
          "iopub.execute_input": "2024-01-08T23:39:22.058751Z",
          "iopub.status.idle": "2024-01-08T23:39:22.06525Z",
          "shell.execute_reply.started": "2024-01-08T23:39:22.058714Z",
          "shell.execute_reply": "2024-01-08T23:39:22.064257Z"
        },
        "trusted": true,
        "id": "XPT6WF4KNV3o"
      },
      "execution_count": null,
      "outputs": []
    },
    {
      "cell_type": "code",
      "source": [
        "Y = generate_matrix(dataset, n_users, n_items)\n",
        "Y.todense()"
      ],
      "metadata": {
        "execution": {
          "iopub.status.busy": "2024-01-08T23:39:22.069744Z",
          "iopub.execute_input": "2024-01-08T23:39:22.070136Z",
          "iopub.status.idle": "2024-01-08T23:39:23.887657Z",
          "shell.execute_reply.started": "2024-01-08T23:39:22.070099Z",
          "shell.execute_reply": "2024-01-08T23:39:23.886513Z"
        },
        "trusted": true,
        "id": "tmFo3eCzNV3o",
        "outputId": "a6874adb-93fc-48a3-8550-7a3fa290e5cc"
      },
      "execution_count": null,
      "outputs": [
        {
          "execution_count": 10,
          "output_type": "execute_result",
          "data": {
            "text/plain": "matrix([[9., 0., 0., ..., 0., 0., 0.],\n        [0., 8., 0., ..., 0., 0., 0.],\n        [0., 0., 7., ..., 0., 0., 0.],\n        ...,\n        [0., 0., 0., ..., 0., 0., 0.],\n        [0., 0., 0., ..., 0., 0., 0.],\n        [0., 0., 0., ..., 0., 0., 0.]])"
          },
          "metadata": {}
        }
      ]
    },
    {
      "cell_type": "code",
      "source": [
        "#creamos una función para que ejecute las predicciones = r_xi = p_x * q_i\n",
        "def estimate(dataset, P, Q):\n",
        "    #P(users), P(items)\n",
        "    #multiply both factor vectos and then sum each multiplication\n",
        "    dataset['estimation'] = np.sum(np.multiply(Q[dataset['itemid']], P[dataset['userid']]),axis=1)\n",
        "    return dataset\n",
        "\n",
        "#creamos la funcion de coste\n",
        "def rmse(dataset, P, Q):\n",
        "    #P(users), P(items)\n",
        "    user = item = 0\n",
        "    Y = generate_matrix(dataset, P.shape[user], Q.shape[item])\n",
        "    R = estimate(dataset, P, Q)\n",
        "    Y_pred = generate_matrix(R, P.shape[user], Q.shape[item], 'estimation')\n",
        "    mse = np.sum((Y-Y_pred).power(2))/dataset.shape[0]\n",
        "    return np.sqrt(mse)"
      ],
      "metadata": {
        "execution": {
          "iopub.status.busy": "2024-01-08T23:39:23.888911Z",
          "iopub.execute_input": "2024-01-08T23:39:23.889336Z",
          "iopub.status.idle": "2024-01-08T23:39:23.896202Z",
          "shell.execute_reply.started": "2024-01-08T23:39:23.889295Z",
          "shell.execute_reply": "2024-01-08T23:39:23.895068Z"
        },
        "trusted": true,
        "id": "Zh_9HQHjNV3p"
      },
      "execution_count": null,
      "outputs": []
    },
    {
      "cell_type": "code",
      "source": [
        "# crear la funciones para el descendiente de gradiente\n",
        "def gradient(dataset, P, Q):\n",
        "    #P(users), P(items)\n",
        "    user = item = 0\n",
        "    Y = generate_matrix(dataset, P.shape[user], Q.shape[item])\n",
        "    R = estimate(dataset, P, Q)\n",
        "    Y_pred = generate_matrix(R, P.shape[user], Q.shape[item], 'estimation')\n",
        "\n",
        "    #compute gradient for V (user) with regularization\n",
        "    U = (-2/dataset.shape[0])*((Y-Y_pred)*Q)+(2*lmbda*P)\n",
        "    #compute gradient for V (item/films) with regularization\n",
        "    V = (-2/dataset.shape[0])*((Y-Y_pred).T*P)+(2*lmbda*Q)\n",
        "    return U,V\n",
        "\n",
        "#crear la funcion para ejecutar el gradiente descendiente\n",
        "def GD(dataset, P, Q, epochs=500, learning_rate=0.01):\n",
        "    Y = generate_matrix(dataset, P.shape[0], Q.shape[0])\n",
        "    # momentum value\n",
        "    beta = 0.99\n",
        "    #gradients\n",
        "    U,V = gradient(dataset,P,Q)\n",
        "    grad_value_user=U\n",
        "    grad_value_item=V\n",
        "    #implement momentum to reduce overfitting\n",
        "    #https://ml-cheatsheet.readthedocs.io/en/latest/optimizers.html#momentum\n",
        "    for i in range(epochs):\n",
        "        U,V = gradient(dataset,P,Q)\n",
        "\n",
        "        grad_value_user = beta*grad_value_user + (1-beta)*U\n",
        "        grad_value_item =beta*grad_value_item +(1-beta)*V\n",
        "\n",
        "        P = P - learning_rate*grad_value_user\n",
        "        Q = Q - learning_rate*grad_value_item\n",
        "\n",
        "        if(not (i+1)%10):\n",
        "            print(\"Epoch\",i+1,\":\")\n",
        "            print(\" Train - rmse:\",rmse(dataset,P,Q))\n",
        "    return P,Q"
      ],
      "metadata": {
        "execution": {
          "iopub.status.busy": "2024-01-08T23:39:23.897599Z",
          "iopub.execute_input": "2024-01-08T23:39:23.897885Z",
          "iopub.status.idle": "2024-01-08T23:39:23.908561Z",
          "shell.execute_reply.started": "2024-01-08T23:39:23.89786Z",
          "shell.execute_reply": "2024-01-08T23:39:23.907533Z"
        },
        "trusted": true,
        "id": "bLfbKtTZNV3p"
      },
      "execution_count": null,
      "outputs": []
    },
    {
      "cell_type": "code",
      "source": [
        "lmbda = 0.00001\n",
        "#create factor/embedding vector to users\n",
        "P = create_vector(n_users, n_factors=6)\n",
        "Q = create_vector(n_items, n_factors=6)\n",
        "\n",
        "P, Q = GD(dataset, P, Q, epochs=4000, learning_rate=0.8)"
      ],
      "metadata": {
        "execution": {
          "iopub.status.busy": "2024-01-08T23:56:05.417188Z",
          "iopub.execute_input": "2024-01-08T23:56:05.417564Z",
          "iopub.status.idle": "2024-01-09T00:15:58.716664Z",
          "shell.execute_reply.started": "2024-01-08T23:56:05.417536Z",
          "shell.execute_reply": "2024-01-09T00:15:58.715505Z"
        },
        "trusted": true,
        "id": "uxXaMtV_NV3p",
        "outputId": "127b8189-fec3-49bd-9a09-308936c63c72"
      },
      "execution_count": null,
      "outputs": [
        {
          "name": "stdout",
          "text": "Epoch 10 :\n Train - rmse: 3.2242551137645514\nEpoch 20 :\n Train - rmse: 3.1247832759827903\nEpoch 30 :\n Train - rmse: 3.03876665922399\nEpoch 40 :\n Train - rmse: 2.966500521081557\nEpoch 50 :\n Train - rmse: 2.907384222495011\nEpoch 60 :\n Train - rmse: 2.860081340073345\nEpoch 70 :\n Train - rmse: 2.822742539263396\nEpoch 80 :\n Train - rmse: 2.7932535033247943\nEpoch 90 :\n Train - rmse: 2.76946953702207\nEpoch 100 :\n Train - rmse: 2.7494077224066706\nEpoch 110 :\n Train - rmse: 2.7313814193234935\nEpoch 120 :\n Train - rmse: 2.714074989234975\nEpoch 130 :\n Train - rmse: 2.6965657035068284\nEpoch 140 :\n Train - rmse: 2.6783043391003405\nEpoch 150 :\n Train - rmse: 2.6590670218980885\nEpoch 160 :\n Train - rmse: 2.6388899147028515\nEpoch 170 :\n Train - rmse: 2.6179965352946786\nEpoch 180 :\n Train - rmse: 2.5967255128910023\nEpoch 190 :\n Train - rmse: 2.575464727165933\nEpoch 200 :\n Train - rmse: 2.5545960639882193\nEpoch 210 :\n Train - rmse: 2.534453420697951\nEpoch 220 :\n Train - rmse: 2.5152950677611328\nEpoch 230 :\n Train - rmse: 2.497290047764276\nEpoch 240 :\n Train - rmse: 2.4805170502169083\nEpoch 250 :\n Train - rmse: 2.4649732520230834\nEpoch 260 :\n Train - rmse: 2.4505900519554253\nEpoch 270 :\n Train - rmse: 2.4372524912000184\nEpoch 280 :\n Train - rmse: 2.4248194081192165\nEpoch 290 :\n Train - rmse: 2.4131419291143645\nEpoch 300 :\n Train - rmse: 2.402078619878949\nEpoch 310 :\n Train - rmse: 2.391506381674917\nEpoch 320 :\n Train - rmse: 2.381326868840256\nEpoch 330 :\n Train - rmse: 2.3714687569945196\nEpoch 340 :\n Train - rmse: 2.361886574772729\nEpoch 350 :\n Train - rmse: 2.352557024576481\nEpoch 360 :\n Train - rmse: 2.343473779534779\nEpoch 370 :\n Train - rmse: 2.334641685411002\nEpoch 380 :\n Train - rmse: 2.32607115231581\nEpoch 390 :\n Train - rmse: 2.3177733259346116\nEpoch 400 :\n Train - rmse: 2.309756412466276\nEpoch 410 :\n Train - rmse: 2.3020233217408954\nEpoch 420 :\n Train - rmse: 2.2945706094253158\nEpoch 430 :\n Train - rmse: 2.2873885558306486\nEpoch 440 :\n Train - rmse: 2.2804621229749444\nEpoch 450 :\n Train - rmse: 2.273772484266066\nEpoch 460 :\n Train - rmse: 2.2672988180503313\nEpoch 470 :\n Train - rmse: 2.2610200888652274\nEpoch 480 :\n Train - rmse: 2.254916597713859\nEpoch 490 :\n Train - rmse: 2.2489711535528722\nEpoch 500 :\n Train - rmse: 2.24316979176565\nEpoch 510 :\n Train - rmse: 2.2375020328647293\nEpoch 520 :\n Train - rmse: 2.2319607297030832\nEpoch 530 :\n Train - rmse: 2.226541590409412\nEpoch 540 :\n Train - rmse: 2.2212424859351754\nEpoch 550 :\n Train - rmse: 2.216062656450837\nEpoch 560 :\n Train - rmse: 2.211001922369014\nEpoch 570 :\n Train - rmse: 2.2060599870153914\nEpoch 580 :\n Train - rmse: 2.201235892868942\nEpoch 590 :\n Train - rmse: 2.196527665754678\nEpoch 600 :\n Train - rmse: 2.191932154848863\nEpoch 610 :\n Train - rmse: 2.1874450535688297\nEpoch 620 :\n Train - rmse: 2.183061069194667\nEpoch 630 :\n Train - rmse: 2.178774198303167\nEpoch 640 :\n Train - rmse: 2.1745780608173493\nEpoch 650 :\n Train - rmse: 2.1704662470067615\nEpoch 660 :\n Train - rmse: 2.1664326379255057\nEpoch 670 :\n Train - rmse: 2.162471669072025\nEpoch 680 :\n Train - rmse: 2.1585785179515464\nEpoch 690 :\n Train - rmse: 2.1547492072830345\nEpoch 700 :\n Train - rmse: 2.150980625625909\nEpoch 710 :\n Train - rmse: 2.147270475341609\nEpoch 720 :\n Train - rmse: 2.143617163541062\nEpoch 730 :\n Train - rmse: 2.1400196548336976\nEpoch 740 :\n Train - rmse: 2.1364773054151485\nEpoch 750 :\n Train - rmse: 2.132989696665352\nEpoch 760 :\n Train - rmse: 2.129556483481613\nEpoch 770 :\n Train - rmse: 2.12617726861779\nEpoch 780 :\n Train - rmse: 2.122851509915403\nEpoch 790 :\n Train - rmse: 2.1195784630101278\nEpoch 800 :\n Train - rmse: 2.1163571582920437\nEpoch 810 :\n Train - rmse: 2.1131864078798195\nEpoch 820 :\n Train - rmse: 2.11006483629612\nEpoch 830 :\n Train - rmse: 2.1069909274387997\nEpoch 840 :\n Train - rmse: 2.103963080260354\nEpoch 850 :\n Train - rmse: 2.1009796661487625\nEpoch 860 :\n Train - rmse: 2.0980390821497825\nEpoch 870 :\n Train - rmse: 2.0951397956671562\nEpoch 880 :\n Train - rmse: 2.092280377912353\nEpoch 890 :\n Train - rmse: 2.089459524964029\nEpoch 900 :\n Train - rmse: 2.086676066693792\nEpoch 910 :\n Train - rmse: 2.0839289649198607\nEpoch 920 :\n Train - rmse: 2.081217302912293\nEpoch 930 :\n Train - rmse: 2.0785402687845593\nEpoch 940 :\n Train - rmse: 2.075897135394381\nEpoch 950 :\n Train - rmse: 2.0732872391961186\nEpoch 960 :\n Train - rmse: 2.07070996010761\nEpoch 970 :\n Train - rmse: 2.0681647039520152\nEpoch 980 :\n Train - rmse: 2.0656508884828635\nEpoch 990 :\n Train - rmse: 2.063167933461561\nEpoch 1000 :\n Train - rmse: 2.060715254780709\nEpoch 1010 :\n Train - rmse: 2.058292262247158\nEpoch 1020 :\n Train - rmse: 2.0558983603732517\nEpoch 1030 :\n Train - rmse: 2.0535329513758773\nEpoch 1040 :\n Train - rmse: 2.051195439541486\nEpoch 1050 :\n Train - rmse: 2.048885236163383\nEpoch 1060 :\n Train - rmse: 2.0466017643722356\nEpoch 1070 :\n Train - rmse: 2.044344463337134\nEpoch 1080 :\n Train - rmse: 2.042112791488871\nEpoch 1090 :\n Train - rmse: 2.0399062285887206\nEpoch 1100 :\n Train - rmse: 2.037724276618772\nEpoch 1110 :\n Train - rmse: 2.035566459592942\nEpoch 1120 :\n Train - rmse: 2.0334323224752993\nEpoch 1130 :\n Train - rmse: 2.031321429443359\nEpoch 1140 :\n Train - rmse: 2.0292333617511247\nEpoch 1150 :\n Train - rmse: 2.0271677154354055\nEpoch 1160 :\n Train - rmse: 2.0251240990763835\nEpoch 1170 :\n Train - rmse: 2.0231021317771325\nEpoch 1180 :\n Train - rmse: 2.0211014414742636\nEpoch 1190 :\n Train - rmse: 2.0191216636393787\nEpoch 1200 :\n Train - rmse: 2.017162440383701\nEpoch 1210 :\n Train - rmse: 2.0152234199395047\nEpoch 1220 :\n Train - rmse: 2.0133042564637034\nEpoch 1230 :\n Train - rmse: 2.0114046100916756\nEpoch 1240 :\n Train - rmse: 2.0095241471623906\nEpoch 1250 :\n Train - rmse: 2.0076625405376496\nEpoch 1260 :\n Train - rmse: 2.0058194699467333\nEpoch 1270 :\n Train - rmse: 2.0039946223007603\nEpoch 1280 :\n Train - rmse: 2.00218769193633\nEpoch 1290 :\n Train - rmse: 2.000398380763773\nEpoch 1300 :\n Train - rmse: 1.9986263983098673\nEpoch 1310 :\n Train - rmse: 1.9968714616572074\nEpoch 1320 :\n Train - rmse: 1.99513329529185\nEpoch 1330 :\n Train - rmse: 1.9934116308771288\nEpoch 1340 :\n Train - rmse: 1.9917062069748104\nEpoch 1350 :\n Train - rmse: 1.990016768735349\nEpoch 1360 :\n Train - rmse: 1.9883430675774525\nEpoch 1370 :\n Train - rmse: 1.9866848608740921\nEpoch 1380 :\n Train - rmse: 1.9850419116580833\nEpoch 1390 :\n Train - rmse: 1.9834139883560227\nEpoch 1400 :\n Train - rmse: 1.9818008645551117\nEpoch 1410 :\n Train - rmse: 1.9802023188036573\nEpoch 1420 :\n Train - rmse: 1.978618134442972\nEpoch 1430 :\n Train - rmse: 1.9770480994662143\nEpoch 1440 :\n Train - rmse: 1.9754920063983483\nEpoch 1450 :\n Train - rmse: 1.9739496521908788\nEpoch 1460 :\n Train - rmse: 1.972420838125175\nEpoch 1470 :\n Train - rmse: 1.9709053697188759\nEpoch 1480 :\n Train - rmse: 1.9694030566309664\nEpoch 1490 :\n Train - rmse: 1.9679137125623565\nEpoch 1500 :\n Train - rmse: 1.9664371551501647\nEpoch 1510 :\n Train - rmse: 1.9649732058551468\nEpoch 1520 :\n Train - rmse: 1.9635216898428305\nEpoch 1530 :\n Train - rmse: 1.9620824358597784\nEpoch 1540 :\n Train - rmse: 1.9606552761070266\nEpoch 1550 :\n Train - rmse: 1.9592400461130661\nEpoch 1560 :\n Train - rmse: 1.9578365846088375\nEpoch 1570 :\n Train - rmse: 1.9564447334070558\nEpoch 1580 :\n Train - rmse: 1.9550643372878822\nEpoch 1590 :\n Train - rmse: 1.9536952438925044\nEpoch 1600 :\n Train - rmse: 1.9523373036256984\nEpoch 1610 :\n Train - rmse: 1.950990369567884\nEpoch 1620 :\n Train - rmse: 1.9496542973967077\nEpoch 1630 :\n Train - rmse: 1.948328945317713\nEpoch 1640 :\n Train - rmse: 1.9470141740033022\nEpoch 1650 :\n Train - rmse: 1.9457098465389218\nEpoch 1660 :\n Train - rmse: 1.944415828375253\nEpoch 1670 :\n Train - rmse: 1.9431319872851138\nEpoch 1680 :\n Train - rmse: 1.9418581933238197\nEpoch 1690 :\n Train - rmse: 1.9405943187918586\nEpoch 1700 :\n Train - rmse: 1.939340238198887\nEpoch 1710 :\n Train - rmse: 1.9380958282282645\nEpoch 1720 :\n Train - rmse: 1.936860967701537\nEpoch 1730 :\n Train - rmse: 1.9356355375425023\nEpoch 1740 :\n Train - rmse: 1.9344194207406662\nEpoch 1750 :\n Train - rmse: 1.9332125023140614\nEpoch 1760 :\n Train - rmse: 1.9320146692715188\nEpoch 1770 :\n Train - rmse: 1.9308258105745622\nEpoch 1780 :\n Train - rmse: 1.9296458170991455\nEpoch 1790 :\n Train - rmse: 1.928474581597452\nEpoch 1800 :\n Train - rmse: 1.9273119986599663\nEpoch 1810 :\n Train - rmse: 1.9261579646779898\nEpoch 1820 :\n Train - rmse: 1.9250123778067205\nEpoch 1830 :\n Train - rmse: 1.9238751379289685\nEpoch 1840 :\n Train - rmse: 1.9227461466195306\nEpoch 1850 :\n Train - rmse: 1.9216253071102052\nEpoch 1860 :\n Train - rmse: 1.9205125242554\nEpoch 1870 :\n Train - rmse: 1.919407704498267\nEpoch 1880 :\n Train - rmse: 1.9183107558373063\nEpoch 1890 :\n Train - rmse: 1.9172215877933751\nEpoch 1900 :\n Train - rmse: 1.9161401113770602\nEpoch 1910 :\n Train - rmse: 1.9150662390564057\nEpoch 1920 :\n Train - rmse: 1.9139998847249968\nEpoch 1930 :\n Train - rmse: 1.9129409636704402\nEpoch 1940 :\n Train - rmse: 1.9118893925432925\nEpoch 1950 :\n Train - rmse: 1.9108450893265105\nEpoch 1960 :\n Train - rmse: 1.9098079733055098\nEpoch 1970 :\n Train - rmse: 1.9087779650389083\nEpoch 1980 :\n Train - rmse: 1.9077549863300414\nEpoch 1990 :\n Train - rmse: 1.906738960199315\nEpoch 2000 :\n Train - rmse: 1.9057298108574512\nEpoch 2010 :\n Train - rmse: 1.9047274636796638\nEpoch 2020 :\n Train - rmse: 1.9037318451807765\nEpoch 2030 :\n Train - rmse: 1.9027428829912858\nEpoch 2040 :\n Train - rmse: 1.9017605058343376\nEpoch 2050 :\n Train - rmse: 1.9007846435035942\nEpoch 2060 :\n Train - rmse: 1.899815226841926\nEpoch 2070 :\n Train - rmse: 1.898852187720886\nEpoch 2080 :\n Train - rmse: 1.8978954590208925\nEpoch 2090 :\n Train - rmse: 1.8969449746120688\nEpoch 2100 :\n Train - rmse: 1.8960006693356684\nEpoch 2110 :\n Train - rmse: 1.895062478986034\nEpoch 2120 :\n Train - rmse: 1.8941303402930452\nEpoch 2130 :\n Train - rmse: 1.8932041909049986\nEpoch 2140 :\n Train - rmse: 1.8922839693718978\nEpoch 2150 :\n Train - rmse: 1.891369615129114\nEpoch 2160 :\n Train - rmse: 1.8904610684813978\nEpoch 2170 :\n Train - rmse: 1.8895582705872258\nEpoch 2180 :\n Train - rmse: 1.8886611634434674\nEpoch 2190 :\n Train - rmse: 1.8877696898703589\nEpoch 2200 :\n Train - rmse: 1.8868837934967782\nEpoch 2210 :\n Train - rmse: 1.8860034187458194\nEpoch 2220 :\n Train - rmse: 1.8851285108206497\nEpoch 2230 :\n Train - rmse: 1.8842590156906491\nEpoch 2240 :\n Train - rmse: 1.8833948800778304\nEpoch 2250 :\n Train - rmse: 1.8825360514435256\nEpoch 2260 :\n Train - rmse: 1.8816824779753367\nEpoch 2270 :\n Train - rmse: 1.8808341085743467\nEpoch 2280 :\n Train - rmse: 1.8799908928425775\nEpoch 2290 :\n Train - rmse: 1.8791527810707014\nEpoch 2300 :\n Train - rmse: 1.8783197242259868\nEpoch 2310 :\n Train - rmse: 1.8774916739404843\nEpoch 2320 :\n Train - rmse: 1.8766685824994442\nEpoch 2330 :\n Train - rmse: 1.8758504028299645\nEpoch 2340 :\n Train - rmse: 1.8750370884898633\nEpoch 2350 :\n Train - rmse: 1.8742285936567773\nEpoch 2360 :\n Train - rmse: 1.8734248731174798\nEpoch 2370 :\n Train - rmse: 1.8726258822574182\nEpoch 2380 :\n Train - rmse: 1.8718315770504708\nEpoch 2390 :\n Train - rmse: 1.8710419140489138\nEpoch 2400 :\n Train - rmse: 1.870256850373602\nEpoch 2410 :\n Train - rmse: 1.8694763437043576\nEpoch 2420 :\n Train - rmse: 1.8687003522705645\nEpoch 2430 :\n Train - rmse: 1.8679288348419576\nEpoch 2440 :\n Train - rmse: 1.8671617507196163\nEpoch 2450 :\n Train - rmse: 1.8663990597271412\nEpoch 2460 :\n Train - rmse: 1.8656407222020213\nEpoch 2470 :\n Train - rmse: 1.864886698987182\nEpoch 2480 :\n Train - rmse: 1.864136951422707\nEpoch 2490 :\n Train - rmse: 1.8633914413377322\nEpoch 2500 :\n Train - rmse: 1.8626501310425034\nEpoch 2510 :\n Train - rmse: 1.8619129833205954\nEpoch 2520 :\n Train - rmse: 1.8611799614212894\nEpoch 2530 :\n Train - rmse: 1.8604510290520926\nEpoch 2540 :\n Train - rmse: 1.8597261503714162\nEpoch 2550 :\n Train - rmse: 1.8590052899813856\nEpoch 2560 :\n Train - rmse: 1.8582884129207953\nEpoch 2570 :\n Train - rmse: 1.8575754846581967\nEpoch 2580 :\n Train - rmse: 1.8568664710851146\nEpoch 2590 :\n Train - rmse: 1.8561613385093996\nEpoch 2600 :\n Train - rmse: 1.855460053648695\nEpoch 2610 :\n Train - rmse: 1.8547625836240351\nEpoch 2620 :\n Train - rmse: 1.8540688959535574\nEpoch 2630 :\n Train - rmse: 1.8533789585463345\nEpoch 2640 :\n Train - rmse: 1.8526927396963189\nEpoch 2650 :\n Train - rmse: 1.852010208076399\nEpoch 2660 :\n Train - rmse: 1.8513313327325662\nEpoch 2670 :\n Train - rmse: 1.85065608307819\nEpoch 2680 :\n Train - rmse: 1.8499844288883946\nEpoch 2690 :\n Train - rmse: 1.849316340294542\nEpoch 2700 :\n Train - rmse: 1.8486517877788151\nEpoch 2710 :\n Train - rmse: 1.8479907421689006\nEpoch 2720 :\n Train - rmse: 1.8473331746327672\nEpoch 2730 :\n Train - rmse: 1.8466790566735412\nEpoch 2740 :\n Train - rmse: 1.8460283601244754\nEpoch 2750 :\n Train - rmse: 1.8453810571440081\nEpoch 2760 :\n Train - rmse: 1.8447371202109166\nEpoch 2770 :\n Train - rmse: 1.8440965221195527\nEpoch 2780 :\n Train - rmse: 1.8434592359751707\nEpoch 2790 :\n Train - rmse: 1.842825235189338\nEpoch 2800 :\n Train - rmse: 1.8421944934754282\nEpoch 2810 :\n Train - rmse: 1.8415669848441976\nEpoch 2820 :\n Train - rmse: 1.8409426835994425\nEpoch 2830 :\n Train - rmse: 1.8403215643337323\nEpoch 2840 :\n Train - rmse: 1.8397036019242201\nEpoch 2850 :\n Train - rmse: 1.8390887715285325\nEpoch 2860 :\n Train - rmse: 1.8384770485807251\nEpoch 2870 :\n Train - rmse: 1.8378684087873198\nEpoch 2880 :\n Train - rmse: 1.8372628281234031\nEpoch 2890 :\n Train - rmse: 1.836660282828801\nEpoch 2900 :\n Train - rmse: 1.8360607494043155\nEpoch 2910 :\n Train - rmse: 1.8354642046080316\nEpoch 2920 :\n Train - rmse: 1.8348706254516853\nEpoch 2930 :\n Train - rmse: 1.8342799891970964\nEpoch 2940 :\n Train - rmse: 1.8336922733526624\nEpoch 2950 :\n Train - rmse: 1.8331074556699132\nEpoch 2960 :\n Train - rmse: 1.8325255141401242\nEpoch 2970 :\n Train - rmse: 1.8319464269909862\nEpoch 2980 :\n Train - rmse: 1.8313701726833338\nEpoch 2990 :\n Train - rmse: 1.8307967299079273\nEpoch 3000 :\n Train - rmse: 1.830226077582289\nEpoch 3010 :\n Train - rmse: 1.8296581948475918\nEpoch 3020 :\n Train - rmse: 1.8290930610656024\nEpoch 3030 :\n Train - rmse: 1.82853065581567\nEpoch 3040 :\n Train - rmse: 1.827970958891769\nEpoch 3050 :\n Train - rmse: 1.8274139502995896\nEpoch 3060 :\n Train - rmse: 1.826859610253675\nEpoch 3070 :\n Train - rmse: 1.8263079191746048\nEpoch 3080 :\n Train - rmse: 1.8257588576862263\nEpoch 3090 :\n Train - rmse: 1.8252124066129294\nEpoch 3100 :\n Train - rmse: 1.8246685469769672\nEpoch 3110 :\n Train - rmse: 1.8241272599958163\nEpoch 3120 :\n Train - rmse: 1.8235885270795849\nEpoch 3130 :\n Train - rmse: 1.823052329828458\nEpoch 3140 :\n Train - rmse: 1.8225186500301858\nEpoch 3150 :\n Train - rmse: 1.8219874696576142\nEpoch 3160 :\n Train - rmse: 1.8214587708662489\nEpoch 3170 :\n Train - rmse: 1.8209325359918667\nEpoch 3180 :\n Train - rmse: 1.820408747548158\nEpoch 3190 :\n Train - rmse: 1.81988738822441\nEpoch 3200 :\n Train - rmse: 1.8193684408832274\nEpoch 3210 :\n Train - rmse: 1.8188518885582874\nEpoch 3220 :\n Train - rmse: 1.8183377144521302\nEpoch 3230 :\n Train - rmse: 1.8178259019339882\nEpoch 3240 :\n Train - rmse: 1.8173164345376447\nEpoch 3250 :\n Train - rmse: 1.8168092959593283\nEpoch 3260 :\n Train - rmse: 1.8163044700556423\nEpoch 3270 :\n Train - rmse: 1.815801940841523\nEpoch 3280 :\n Train - rmse: 1.8153016924882324\nEpoch 3290 :\n Train - rmse: 1.8148037093213834\nEpoch 3300 :\n Train - rmse: 1.81430797581899\nEpoch 3310 :\n Train - rmse: 1.813814476609556\nEpoch 3320 :\n Train - rmse: 1.813323196470187\nEpoch 3330 :\n Train - rmse: 1.8128341203247311\nEpoch 3340 :\n Train - rmse: 1.8123472332419557\nEpoch 3350 :\n Train - rmse: 1.8118625204337422\nEpoch 3360 :\n Train - rmse: 1.8113799672533153\nEpoch 3370 :\n Train - rmse: 1.8108995591934964\nEpoch 3380 :\n Train - rmse: 1.8104212818849832\nEpoch 3390 :\n Train - rmse: 1.8099451210946578\nEpoch 3400 :\n Train - rmse: 1.809471062723916\nEpoch 3410 :\n Train - rmse: 1.8089990928070256\nEpoch 3420 :\n Train - rmse: 1.8085291975095068\nEpoch 3430 :\n Train - rmse: 1.8080613631265379\nEpoch 3440 :\n Train - rmse: 1.8075955760813833\nEpoch 3450 :\n Train - rmse: 1.8071318229238473\nEpoch 3460 :\n Train - rmse: 1.806670090328747\nEpoch 3470 :\n Train - rmse: 1.8062103650944106\nEpoch 3480 :\n Train - rmse: 1.805752634141197\nEpoch 3490 :\n Train - rmse: 1.8052968845100354\nEpoch 3500 :\n Train - rmse: 1.8048431033609893\nEpoch 3510 :\n Train - rmse: 1.8043912779718376\nEpoch 3520 :\n Train - rmse: 1.8039413957366799\nEpoch 3530 :\n Train - rmse: 1.8034934441645594\nEpoch 3540 :\n Train - rmse: 1.8030474108781058\nEpoch 3550 :\n Train - rmse: 1.8026032836122003\nEpoch 3560 :\n Train - rmse: 1.8021610502126564\nEpoch 3570 :\n Train - rmse: 1.8017206986349228\nEpoch 3580 :\n Train - rmse: 1.8012822169428007\nEpoch 3590 :\n Train - rmse: 1.8008455933071843\nEpoch 3600 :\n Train - rmse: 1.8004108160048156\nEpoch 3610 :\n Train - rmse: 1.7999778734170597\nEpoch 3620 :\n Train - rmse: 1.7995467540286934\nEpoch 3630 :\n Train - rmse: 1.7991174464267161\nEpoch 3640 :\n Train - rmse: 1.7986899392991742\nEpoch 3650 :\n Train - rmse: 1.7982642214340019\nEpoch 3660 :\n Train - rmse: 1.7978402817178791\nEpoch 3670 :\n Train - rmse: 1.797418109135108\nEpoch 3680 :\n Train - rmse: 1.7969976927665\nEpoch 3690 :\n Train - rmse: 1.7965790217882815\nEpoch 3700 :\n Train - rmse: 1.796162085471016\nEpoch 3710 :\n Train - rmse: 1.795746873178539\nEpoch 3720 :\n Train - rmse: 1.7953333743669064\nEpoch 3730 :\n Train - rmse: 1.7949215785833619\nEpoch 3740 :\n Train - rmse: 1.7945114754653144\nEpoch 3750 :\n Train - rmse: 1.794103054739332\nEpoch 3760 :\n Train - rmse: 1.7936963062201483\nEpoch 3770 :\n Train - rmse: 1.793291219809683\nEpoch 3780 :\n Train - rmse: 1.7928877854960763\nEpoch 3790 :\n Train - rmse: 1.792485993352734\nEpoch 3800 :\n Train - rmse: 1.7920858335373893\nEpoch 3810 :\n Train - rmse: 1.7916872962911745\nEpoch 3820 :\n Train - rmse: 1.7912903719377062\nEpoch 3830 :\n Train - rmse: 1.790895050882183\nEpoch 3840 :\n Train - rmse: 1.7905013236104927\nEpoch 3850 :\n Train - rmse: 1.790109180688337\nEpoch 3860 :\n Train - rmse: 1.7897186127603621\nEpoch 3870 :\n Train - rmse: 1.7893296105493042\nEpoch 3880 :\n Train - rmse: 1.7889421648551451\nEpoch 3890 :\n Train - rmse: 1.7885562665542791\nEpoch 3900 :\n Train - rmse: 1.7881719065986919\nEpoch 3910 :\n Train - rmse: 1.7877890760151482\nEpoch 3920 :\n Train - rmse: 1.7874077659043917\nEpoch 3930 :\n Train - rmse: 1.7870279674403557\nEpoch 3940 :\n Train - rmse: 1.7866496718693827\nEpoch 3950 :\n Train - rmse: 1.786272870509455\nEpoch 3960 :\n Train - rmse: 1.7858975547494358\nEpoch 3970 :\n Train - rmse: 1.7855237160483175\nEpoch 3980 :\n Train - rmse: 1.7851513459344857\nEpoch 3990 :\n Train - rmse: 1.7847804360049841\nEpoch 4000 :\n Train - rmse: 1.784410977924797\n",
          "output_type": "stream"
        }
      ]
    },
    {
      "cell_type": "code",
      "source": [
        "#explotar un nuevo conjunto de datos verificando\n",
        "#que sea valida, es decir, en base al conjunto de\n",
        "#usuarios e items(films) entrenados\n",
        "def process_new_data(dataset, user_ids, items_ids):\n",
        "    select_data = dataset['userid'].isin(user_ids.keys()) & dataset['itemid'].isin(items_ids.keys())\n",
        "    dataset = dataset[select_data]\n",
        "    dataset['userid'] = np.array([user_ids[userid] for userid in dataset['userid']])\n",
        "    dataset['itemid'] = np.array([items_ids[itemid] for itemid in dataset['itemid']])\n",
        "    return dataset"
      ],
      "metadata": {
        "execution": {
          "iopub.status.busy": "2024-01-09T00:26:24.145529Z",
          "iopub.execute_input": "2024-01-09T00:26:24.145932Z",
          "iopub.status.idle": "2024-01-09T00:26:24.152939Z",
          "shell.execute_reply.started": "2024-01-09T00:26:24.145902Z",
          "shell.execute_reply": "2024-01-09T00:26:24.151545Z"
        },
        "trusted": true,
        "id": "9TnrHqLNNV3p"
      },
      "execution_count": null,
      "outputs": []
    },
    {
      "cell_type": "code",
      "source": [
        "train_rmse = rmse(train, P, Q)\n",
        "#val_rmse = rmse(valid, P, Q)\n",
        "print(train_rmse)"
      ],
      "metadata": {
        "execution": {
          "iopub.status.busy": "2024-01-09T00:26:29.60308Z",
          "iopub.execute_input": "2024-01-09T00:26:29.603482Z",
          "iopub.status.idle": "2024-01-09T00:26:29.867702Z",
          "shell.execute_reply.started": "2024-01-09T00:26:29.60345Z",
          "shell.execute_reply": "2024-01-09T00:26:29.866586Z"
        },
        "trusted": true,
        "id": "mFmhMWIdNV3q",
        "outputId": "e8e5d1b4-5da9-405c-b7d9-4e0b46a869f8"
      },
      "execution_count": null,
      "outputs": [
        {
          "name": "stdout",
          "text": "1.784410977924797\n",
          "output_type": "stream"
        }
      ]
    },
    {
      "cell_type": "code",
      "source": [
        "train.head(20)"
      ],
      "metadata": {
        "execution": {
          "iopub.status.busy": "2024-01-09T00:26:31.785374Z",
          "iopub.execute_input": "2024-01-09T00:26:31.785773Z",
          "iopub.status.idle": "2024-01-09T00:26:31.801479Z",
          "shell.execute_reply.started": "2024-01-09T00:26:31.785741Z",
          "shell.execute_reply": "2024-01-09T00:26:31.800237Z"
        },
        "trusted": true,
        "id": "QZ5Q-A7GNV3q",
        "outputId": "989b2566-7d00-4031-a712-2f4a701e268b"
      },
      "execution_count": null,
      "outputs": [
        {
          "execution_count": 29,
          "output_type": "execute_result",
          "data": {
            "text/plain": "    userid  itemid  rating  estimation\n0        0       0     9.0    7.733230\n1        1       1     8.0    8.331486\n2        2       2     7.0    8.626974\n3        3       3     7.0    7.007077\n4        4       4     9.0    3.996475\n5        5       5     7.0    6.887957\n6        6       6     6.0    6.259116\n7        7       7     5.0    6.416419\n8        8       8    10.0    7.599702\n9        9       9     6.0    6.537161\n10      10      10     6.0    3.669308\n11      11      11     3.0    5.607326\n12      12      12     9.0    8.016833\n13      13      13     8.0    7.672304\n14      14      14     8.0    7.397276\n15      15      15     6.0    6.546110\n16      16      16     7.0    5.811104\n17      17      17    10.0    8.160888\n18      18      18     6.0    5.031840\n19      19      19     9.0    7.455367",
            "text/html": "<div>\n<style scoped>\n    .dataframe tbody tr th:only-of-type {\n        vertical-align: middle;\n    }\n\n    .dataframe tbody tr th {\n        vertical-align: top;\n    }\n\n    .dataframe thead th {\n        text-align: right;\n    }\n</style>\n<table border=\"1\" class=\"dataframe\">\n  <thead>\n    <tr style=\"text-align: right;\">\n      <th></th>\n      <th>userid</th>\n      <th>itemid</th>\n      <th>rating</th>\n      <th>estimation</th>\n    </tr>\n  </thead>\n  <tbody>\n    <tr>\n      <th>0</th>\n      <td>0</td>\n      <td>0</td>\n      <td>9.0</td>\n      <td>7.733230</td>\n    </tr>\n    <tr>\n      <th>1</th>\n      <td>1</td>\n      <td>1</td>\n      <td>8.0</td>\n      <td>8.331486</td>\n    </tr>\n    <tr>\n      <th>2</th>\n      <td>2</td>\n      <td>2</td>\n      <td>7.0</td>\n      <td>8.626974</td>\n    </tr>\n    <tr>\n      <th>3</th>\n      <td>3</td>\n      <td>3</td>\n      <td>7.0</td>\n      <td>7.007077</td>\n    </tr>\n    <tr>\n      <th>4</th>\n      <td>4</td>\n      <td>4</td>\n      <td>9.0</td>\n      <td>3.996475</td>\n    </tr>\n    <tr>\n      <th>5</th>\n      <td>5</td>\n      <td>5</td>\n      <td>7.0</td>\n      <td>6.887957</td>\n    </tr>\n    <tr>\n      <th>6</th>\n      <td>6</td>\n      <td>6</td>\n      <td>6.0</td>\n      <td>6.259116</td>\n    </tr>\n    <tr>\n      <th>7</th>\n      <td>7</td>\n      <td>7</td>\n      <td>5.0</td>\n      <td>6.416419</td>\n    </tr>\n    <tr>\n      <th>8</th>\n      <td>8</td>\n      <td>8</td>\n      <td>10.0</td>\n      <td>7.599702</td>\n    </tr>\n    <tr>\n      <th>9</th>\n      <td>9</td>\n      <td>9</td>\n      <td>6.0</td>\n      <td>6.537161</td>\n    </tr>\n    <tr>\n      <th>10</th>\n      <td>10</td>\n      <td>10</td>\n      <td>6.0</td>\n      <td>3.669308</td>\n    </tr>\n    <tr>\n      <th>11</th>\n      <td>11</td>\n      <td>11</td>\n      <td>3.0</td>\n      <td>5.607326</td>\n    </tr>\n    <tr>\n      <th>12</th>\n      <td>12</td>\n      <td>12</td>\n      <td>9.0</td>\n      <td>8.016833</td>\n    </tr>\n    <tr>\n      <th>13</th>\n      <td>13</td>\n      <td>13</td>\n      <td>8.0</td>\n      <td>7.672304</td>\n    </tr>\n    <tr>\n      <th>14</th>\n      <td>14</td>\n      <td>14</td>\n      <td>8.0</td>\n      <td>7.397276</td>\n    </tr>\n    <tr>\n      <th>15</th>\n      <td>15</td>\n      <td>15</td>\n      <td>6.0</td>\n      <td>6.546110</td>\n    </tr>\n    <tr>\n      <th>16</th>\n      <td>16</td>\n      <td>16</td>\n      <td>7.0</td>\n      <td>5.811104</td>\n    </tr>\n    <tr>\n      <th>17</th>\n      <td>17</td>\n      <td>17</td>\n      <td>10.0</td>\n      <td>8.160888</td>\n    </tr>\n    <tr>\n      <th>18</th>\n      <td>18</td>\n      <td>18</td>\n      <td>6.0</td>\n      <td>5.031840</td>\n    </tr>\n    <tr>\n      <th>19</th>\n      <td>19</td>\n      <td>19</td>\n      <td>9.0</td>\n      <td>7.455367</td>\n    </tr>\n  </tbody>\n</table>\n</div>"
          },
          "metadata": {}
        }
      ]
    },
    {
      "cell_type": "code",
      "source": [
        "#27609 361748\n",
        "train.loc[(train['userid']==user_ids.get(8660)) & (train['itemid']==item_ids.get(2543472))]"
      ],
      "metadata": {
        "execution": {
          "iopub.status.busy": "2024-01-09T00:26:35.55143Z",
          "iopub.execute_input": "2024-01-09T00:26:35.551793Z",
          "iopub.status.idle": "2024-01-09T00:26:35.566072Z",
          "shell.execute_reply.started": "2024-01-09T00:26:35.551765Z",
          "shell.execute_reply": "2024-01-09T00:26:35.565066Z"
        },
        "trusted": true,
        "id": "unlcuFByNV3q",
        "outputId": "b51f4dfc-7d70-41ea-d5bf-770c496783b5"
      },
      "execution_count": null,
      "outputs": [
        {
          "execution_count": 30,
          "output_type": "execute_result",
          "data": {
            "text/plain": "   userid  itemid  rating  estimation\n1   11335    1210     5.0    7.416649",
            "text/html": "<div>\n<style scoped>\n    .dataframe tbody tr th:only-of-type {\n        vertical-align: middle;\n    }\n\n    .dataframe tbody tr th {\n        vertical-align: top;\n    }\n\n    .dataframe thead th {\n        text-align: right;\n    }\n</style>\n<table border=\"1\" class=\"dataframe\">\n  <thead>\n    <tr style=\"text-align: right;\">\n      <th></th>\n      <th>userid</th>\n      <th>itemid</th>\n      <th>rating</th>\n      <th>estimation</th>\n    </tr>\n  </thead>\n  <tbody>\n    <tr>\n      <th>1</th>\n      <td>11335</td>\n      <td>1210</td>\n      <td>5.0</td>\n      <td>7.416649</td>\n    </tr>\n  </tbody>\n</table>\n</div>"
          },
          "metadata": {}
        }
      ]
    },
    {
      "cell_type": "code",
      "source": [
        "def estimate_single(user, movie, P, Q):\n",
        "    # Estimate the rating for a single user and movie\n",
        "    return np.dot(Q[movie], P[user])"
      ],
      "metadata": {
        "execution": {
          "iopub.status.busy": "2024-01-09T00:26:37.69318Z",
          "iopub.execute_input": "2024-01-09T00:26:37.693572Z",
          "iopub.status.idle": "2024-01-09T00:26:37.698843Z",
          "shell.execute_reply.started": "2024-01-09T00:26:37.693543Z",
          "shell.execute_reply": "2024-01-09T00:26:37.697744Z"
        },
        "trusted": true,
        "id": "j60YUxVWNV3q"
      },
      "execution_count": null,
      "outputs": []
    },
    {
      "cell_type": "code",
      "source": [
        "tests = pd.read_csv('/kaggle/input/movie-recommender-dataset/test.csv',sep='-')\n",
        "tests['Expected'] = 0.0\n",
        "\n",
        "tests['Id'] = tests['userid'].astype(str) + '-' + tests['itemid'].astype(str)\n",
        "for index, row in tests.iterrows():\n",
        "    user_id = int(row['userid'])\n",
        "    movie_id = int(row['itemid'])\n",
        "    tests.at[index, 'Expected'] = round(estimate_single(user_ids.get(user_id), item_ids.get(movie_id), P, Q), 4)\n",
        "\n",
        "tests[['Id', 'Expected']].to_csv('resultados_estimados.csv', index=False)"
      ],
      "metadata": {
        "execution": {
          "iopub.status.busy": "2024-01-09T00:26:40.093287Z",
          "iopub.execute_input": "2024-01-09T00:26:40.093659Z",
          "iopub.status.idle": "2024-01-09T00:26:51.51674Z",
          "shell.execute_reply.started": "2024-01-09T00:26:40.093631Z",
          "shell.execute_reply": "2024-01-09T00:26:51.515666Z"
        },
        "trusted": true,
        "id": "YmSwxDTgNV3q"
      },
      "execution_count": null,
      "outputs": []
    }
  ]
}